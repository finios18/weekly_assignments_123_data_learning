{
 "cells": [
  {
   "cell_type": "markdown",
   "id": "68a2cab9",
   "metadata": {},
   "source": [
    "# weekly assignment 1 \n",
    "\n",
    "- import files to jupiter document "
   ]
  },
  {
   "cell_type": "code",
   "execution_count": 1,
   "id": "25b66391",
   "metadata": {},
   "outputs": [
    {
     "name": "stdout",
     "output_type": "stream",
     "text": [
      "      id  20-6-2013  21-6-2013  22-6-2013  23-6-2013  24-6-2013  25-6-2013  \\\n",
      "0      1        NaN        NaN        NaN        NaN     3941.0    15733.0   \n",
      "1      2        NaN        NaN    10473.0      705.0     4287.0     5507.0   \n",
      "2      3        NaN    11428.0    12523.0     2553.0      190.0     2164.0   \n",
      "3      4        NaN        NaN        NaN        NaN        NaN        NaN   \n",
      "4      5        NaN        NaN        NaN        NaN        NaN        NaN   \n",
      "..   ...        ...        ...        ...        ...        ...        ...   \n",
      "924  925        NaN     4571.0    10471.0     5899.0    15295.0     9178.0   \n",
      "925  926        NaN        NaN        NaN        NaN        NaN        NaN   \n",
      "926  927        NaN        NaN        NaN     1623.0        NaN        NaN   \n",
      "927  928        NaN        NaN    14411.0    14364.0    26629.0    13092.0   \n",
      "928  929        NaN     3324.0     4507.0    14364.0     4098.0     7299.0   \n",
      "\n",
      "     26-6-2013  27-6-2013  28-6-2013  ...  4-5-2014  5-5-2014  6-5-2014  \\\n",
      "0       9929.0    12879.0    10541.0  ...       NaN       NaN       NaN   \n",
      "1       4024.0     3926.0    14595.0  ...       NaN       NaN       NaN   \n",
      "2       8185.0     9630.0     8983.0  ...    3914.0    4364.0       NaN   \n",
      "3          NaN        NaN        NaN  ...       NaN       NaN       NaN   \n",
      "4          NaN        NaN        NaN  ...       NaN       NaN       NaN   \n",
      "..         ...        ...        ...  ...       ...       ...       ...   \n",
      "924     9348.0    12229.0    13767.0  ...       NaN       NaN       NaN   \n",
      "925        NaN        NaN        NaN  ...       NaN       NaN       NaN   \n",
      "926        NaN        NaN        NaN  ...       NaN       NaN       NaN   \n",
      "927     9266.0    14949.0    43238.0  ...       NaN       NaN       NaN   \n",
      "928    11534.0    10125.0     7700.0  ...       NaN       NaN       NaN   \n",
      "\n",
      "     7-5-2014  8-5-2014  9-5-2014  10-5-2014  11-5-2014  12-5-2014  13-5-2014  \n",
      "0         NaN       NaN       NaN        NaN        NaN        NaN        NaN  \n",
      "1         NaN       NaN       NaN        NaN        NaN        NaN        NaN  \n",
      "2         NaN       NaN    6227.0     4567.0     2567.0     1129.0        NaN  \n",
      "3         NaN       NaN       NaN        NaN        NaN        NaN        NaN  \n",
      "4         NaN       NaN       NaN        NaN        NaN        NaN        NaN  \n",
      "..        ...       ...       ...        ...        ...        ...        ...  \n",
      "924       NaN       NaN       NaN        NaN        NaN        NaN        NaN  \n",
      "925       NaN       NaN       NaN        NaN        NaN        NaN        NaN  \n",
      "926       NaN       NaN       NaN        NaN        NaN        NaN        NaN  \n",
      "927       NaN       NaN       NaN        NaN        NaN        NaN        NaN  \n",
      "928       NaN       NaN       NaN        NaN        NaN        NaN        NaN  \n",
      "\n",
      "[929 rows x 329 columns]\n"
     ]
    }
   ],
   "source": [
    "import pandas as pd\n",
    "import seaborn as sns\n",
    "import matplotlib.pyplot as plt\n",
    "import numpy as np\n",
    "import sklearn as sk\n",
    "import math\n",
    "from sklearn.linear_model import LinearRegression #remember, this is linear regression model from sk-learn\n",
    "from sklearn.metrics import mean_squared_error\n",
    "from sklearn.metrics import r2_score\n",
    "from sklearn.model_selection import train_test_split\n",
    "\n",
    "#steps_csv moet bij de komma's gescheiden worden\n",
    "steps = pd.read_csv('steps.csv',sep = ';')\n",
    "survey = pd.read_csv('survey.csv')\n",
    "#steps = steps.fillna('0')\n",
    "print(steps)"
   ]
  },
  {
   "cell_type": "markdown",
   "id": "31985708",
   "metadata": {},
   "source": [
    "- extra kolom toevoegen met het mean aantal stappen per participant"
   ]
  },
  {
   "cell_type": "code",
   "execution_count": 2,
   "id": "86e7667e",
   "metadata": {},
   "outputs": [
    {
     "data": {
      "text/html": [
       "<div>\n",
       "<style scoped>\n",
       "    .dataframe tbody tr th:only-of-type {\n",
       "        vertical-align: middle;\n",
       "    }\n",
       "\n",
       "    .dataframe tbody tr th {\n",
       "        vertical-align: top;\n",
       "    }\n",
       "\n",
       "    .dataframe thead th {\n",
       "        text-align: right;\n",
       "    }\n",
       "</style>\n",
       "<table border=\"1\" class=\"dataframe\">\n",
       "  <thead>\n",
       "    <tr style=\"text-align: right;\">\n",
       "      <th></th>\n",
       "      <th>id</th>\n",
       "      <th>20-6-2013</th>\n",
       "      <th>21-6-2013</th>\n",
       "      <th>22-6-2013</th>\n",
       "      <th>23-6-2013</th>\n",
       "      <th>24-6-2013</th>\n",
       "      <th>25-6-2013</th>\n",
       "      <th>26-6-2013</th>\n",
       "      <th>27-6-2013</th>\n",
       "      <th>28-6-2013</th>\n",
       "      <th>...</th>\n",
       "      <th>5-5-2014</th>\n",
       "      <th>6-5-2014</th>\n",
       "      <th>7-5-2014</th>\n",
       "      <th>8-5-2014</th>\n",
       "      <th>9-5-2014</th>\n",
       "      <th>10-5-2014</th>\n",
       "      <th>11-5-2014</th>\n",
       "      <th>12-5-2014</th>\n",
       "      <th>13-5-2014</th>\n",
       "      <th>steps_mean</th>\n",
       "    </tr>\n",
       "  </thead>\n",
       "  <tbody>\n",
       "    <tr>\n",
       "      <th>0</th>\n",
       "      <td>1</td>\n",
       "      <td>NaN</td>\n",
       "      <td>NaN</td>\n",
       "      <td>NaN</td>\n",
       "      <td>NaN</td>\n",
       "      <td>3941.0</td>\n",
       "      <td>15733.0</td>\n",
       "      <td>9929.0</td>\n",
       "      <td>12879.0</td>\n",
       "      <td>10541.0</td>\n",
       "      <td>...</td>\n",
       "      <td>NaN</td>\n",
       "      <td>NaN</td>\n",
       "      <td>NaN</td>\n",
       "      <td>NaN</td>\n",
       "      <td>NaN</td>\n",
       "      <td>NaN</td>\n",
       "      <td>NaN</td>\n",
       "      <td>NaN</td>\n",
       "      <td>NaN</td>\n",
       "      <td>10205.521212</td>\n",
       "    </tr>\n",
       "    <tr>\n",
       "      <th>1</th>\n",
       "      <td>2</td>\n",
       "      <td>NaN</td>\n",
       "      <td>NaN</td>\n",
       "      <td>10473.0</td>\n",
       "      <td>705.0</td>\n",
       "      <td>4287.0</td>\n",
       "      <td>5507.0</td>\n",
       "      <td>4024.0</td>\n",
       "      <td>3926.0</td>\n",
       "      <td>14595.0</td>\n",
       "      <td>...</td>\n",
       "      <td>NaN</td>\n",
       "      <td>NaN</td>\n",
       "      <td>NaN</td>\n",
       "      <td>NaN</td>\n",
       "      <td>NaN</td>\n",
       "      <td>NaN</td>\n",
       "      <td>NaN</td>\n",
       "      <td>NaN</td>\n",
       "      <td>NaN</td>\n",
       "      <td>5687.423313</td>\n",
       "    </tr>\n",
       "    <tr>\n",
       "      <th>2</th>\n",
       "      <td>3</td>\n",
       "      <td>NaN</td>\n",
       "      <td>11428.0</td>\n",
       "      <td>12523.0</td>\n",
       "      <td>2553.0</td>\n",
       "      <td>190.0</td>\n",
       "      <td>2164.0</td>\n",
       "      <td>8185.0</td>\n",
       "      <td>9630.0</td>\n",
       "      <td>8983.0</td>\n",
       "      <td>...</td>\n",
       "      <td>4364.0</td>\n",
       "      <td>NaN</td>\n",
       "      <td>NaN</td>\n",
       "      <td>NaN</td>\n",
       "      <td>6227.0</td>\n",
       "      <td>4567.0</td>\n",
       "      <td>2567.0</td>\n",
       "      <td>1129.0</td>\n",
       "      <td>NaN</td>\n",
       "      <td>8301.729730</td>\n",
       "    </tr>\n",
       "    <tr>\n",
       "      <th>3</th>\n",
       "      <td>4</td>\n",
       "      <td>NaN</td>\n",
       "      <td>NaN</td>\n",
       "      <td>NaN</td>\n",
       "      <td>NaN</td>\n",
       "      <td>NaN</td>\n",
       "      <td>NaN</td>\n",
       "      <td>NaN</td>\n",
       "      <td>NaN</td>\n",
       "      <td>NaN</td>\n",
       "      <td>...</td>\n",
       "      <td>NaN</td>\n",
       "      <td>NaN</td>\n",
       "      <td>NaN</td>\n",
       "      <td>NaN</td>\n",
       "      <td>NaN</td>\n",
       "      <td>NaN</td>\n",
       "      <td>NaN</td>\n",
       "      <td>NaN</td>\n",
       "      <td>NaN</td>\n",
       "      <td>3633.200000</td>\n",
       "    </tr>\n",
       "    <tr>\n",
       "      <th>4</th>\n",
       "      <td>5</td>\n",
       "      <td>NaN</td>\n",
       "      <td>NaN</td>\n",
       "      <td>NaN</td>\n",
       "      <td>NaN</td>\n",
       "      <td>NaN</td>\n",
       "      <td>NaN</td>\n",
       "      <td>NaN</td>\n",
       "      <td>NaN</td>\n",
       "      <td>NaN</td>\n",
       "      <td>...</td>\n",
       "      <td>NaN</td>\n",
       "      <td>NaN</td>\n",
       "      <td>NaN</td>\n",
       "      <td>NaN</td>\n",
       "      <td>NaN</td>\n",
       "      <td>NaN</td>\n",
       "      <td>NaN</td>\n",
       "      <td>NaN</td>\n",
       "      <td>NaN</td>\n",
       "      <td>5312.129630</td>\n",
       "    </tr>\n",
       "  </tbody>\n",
       "</table>\n",
       "<p>5 rows × 330 columns</p>\n",
       "</div>"
      ],
      "text/plain": [
       "   id  20-6-2013  21-6-2013  22-6-2013  23-6-2013  24-6-2013  25-6-2013  \\\n",
       "0   1        NaN        NaN        NaN        NaN     3941.0    15733.0   \n",
       "1   2        NaN        NaN    10473.0      705.0     4287.0     5507.0   \n",
       "2   3        NaN    11428.0    12523.0     2553.0      190.0     2164.0   \n",
       "3   4        NaN        NaN        NaN        NaN        NaN        NaN   \n",
       "4   5        NaN        NaN        NaN        NaN        NaN        NaN   \n",
       "\n",
       "   26-6-2013  27-6-2013  28-6-2013  ...  5-5-2014  6-5-2014  7-5-2014  \\\n",
       "0     9929.0    12879.0    10541.0  ...       NaN       NaN       NaN   \n",
       "1     4024.0     3926.0    14595.0  ...       NaN       NaN       NaN   \n",
       "2     8185.0     9630.0     8983.0  ...    4364.0       NaN       NaN   \n",
       "3        NaN        NaN        NaN  ...       NaN       NaN       NaN   \n",
       "4        NaN        NaN        NaN  ...       NaN       NaN       NaN   \n",
       "\n",
       "   8-5-2014  9-5-2014  10-5-2014  11-5-2014  12-5-2014  13-5-2014  \\\n",
       "0       NaN       NaN        NaN        NaN        NaN        NaN   \n",
       "1       NaN       NaN        NaN        NaN        NaN        NaN   \n",
       "2       NaN    6227.0     4567.0     2567.0     1129.0        NaN   \n",
       "3       NaN       NaN        NaN        NaN        NaN        NaN   \n",
       "4       NaN       NaN        NaN        NaN        NaN        NaN   \n",
       "\n",
       "     steps_mean  \n",
       "0  10205.521212  \n",
       "1   5687.423313  \n",
       "2   8301.729730  \n",
       "3   3633.200000  \n",
       "4   5312.129630  \n",
       "\n",
       "[5 rows x 330 columns]"
      ]
     },
     "execution_count": 2,
     "metadata": {},
     "output_type": "execute_result"
    }
   ],
   "source": [
    "steps['steps_mean'] = steps.iloc[:,2:329].mean(numeric_only=True,axis=1)\n",
    "steps.head()"
   ]
  },
  {
   "cell_type": "markdown",
   "id": "a2a92ea7",
   "metadata": {},
   "source": [
    "- kijken hoe de survey file eruit ziet "
   ]
  },
  {
   "cell_type": "code",
   "execution_count": 3,
   "id": "0fd4a889",
   "metadata": {},
   "outputs": [
    {
     "name": "stdout",
     "output_type": "stream",
     "text": [
      "      id         city  gender    age  hh_size  education          education_1  \\\n",
      "0      1     Bordeaux    Male  25-34        4          4  Master or doctorate   \n",
      "1      2        Lille    Male  35-44        1          3             Bachelor   \n",
      "2      3  Montpellier    Male  25-34        2          2  Master or doctorate   \n",
      "3      4         Lyon    Male    <25        1          1             Bachelor   \n",
      "4      5  Montpellier  Female  25-34        3          4             Bachelor   \n",
      "..   ...          ...     ...    ...      ...        ...                  ...   \n",
      "924  925        Lille  Female  45-54        3          4  Master or doctorate   \n",
      "925  926        Lille    Male    <25        3          5             Bachelor   \n",
      "926  927  Montpellier    Male  35-44        2          2             Bachelor   \n",
      "927  928        Lille  Female  55-64        1          1          High school   \n",
      "928  929         Lyon    Male  25-34        2          2          High school   \n",
      "\n",
      "     height  weight  \n",
      "0     178.0    98.0  \n",
      "1     180.0    77.0  \n",
      "2     180.0    83.0  \n",
      "3     178.0    80.0  \n",
      "4     167.0    61.0  \n",
      "..      ...     ...  \n",
      "924   165.0    59.0  \n",
      "925   192.0    90.0  \n",
      "926   181.0    71.0  \n",
      "927   172.0    65.0  \n",
      "928   180.0    76.0  \n",
      "\n",
      "[929 rows x 9 columns]\n"
     ]
    }
   ],
   "source": [
    "print(survey)"
   ]
  },
  {
   "cell_type": "markdown",
   "id": "955e5da4",
   "metadata": {},
   "source": [
    "- mergen van de twee files en dan printen om te kijken hoe het eruit ziet"
   ]
  },
  {
   "cell_type": "code",
   "execution_count": 4,
   "id": "454d1f58",
   "metadata": {},
   "outputs": [
    {
     "name": "stdout",
     "output_type": "stream",
     "text": [
      "      id         city  gender    age  hh_size  education          education_1  \\\n",
      "0      1     Bordeaux    Male  25-34        4          4  Master or doctorate   \n",
      "1      2        Lille    Male  35-44        1          3             Bachelor   \n",
      "2      3  Montpellier    Male  25-34        2          2  Master or doctorate   \n",
      "3      4         Lyon    Male    <25        1          1             Bachelor   \n",
      "4      5  Montpellier  Female  25-34        3          4             Bachelor   \n",
      "..   ...          ...     ...    ...      ...        ...                  ...   \n",
      "924  925        Lille  Female  45-54        3          4  Master or doctorate   \n",
      "925  926        Lille    Male    <25        3          5             Bachelor   \n",
      "926  927  Montpellier    Male  35-44        2          2             Bachelor   \n",
      "927  928        Lille  Female  55-64        1          1          High school   \n",
      "928  929         Lyon    Male  25-34        2          2          High school   \n",
      "\n",
      "     height  weight  20-6-2013  ...  5-5-2014  6-5-2014  7-5-2014  8-5-2014  \\\n",
      "0     178.0    98.0        NaN  ...       NaN       NaN       NaN       NaN   \n",
      "1     180.0    77.0        NaN  ...       NaN       NaN       NaN       NaN   \n",
      "2     180.0    83.0        NaN  ...    4364.0       NaN       NaN       NaN   \n",
      "3     178.0    80.0        NaN  ...       NaN       NaN       NaN       NaN   \n",
      "4     167.0    61.0        NaN  ...       NaN       NaN       NaN       NaN   \n",
      "..      ...     ...        ...  ...       ...       ...       ...       ...   \n",
      "924   165.0    59.0        NaN  ...       NaN       NaN       NaN       NaN   \n",
      "925   192.0    90.0        NaN  ...       NaN       NaN       NaN       NaN   \n",
      "926   181.0    71.0        NaN  ...       NaN       NaN       NaN       NaN   \n",
      "927   172.0    65.0        NaN  ...       NaN       NaN       NaN       NaN   \n",
      "928   180.0    76.0        NaN  ...       NaN       NaN       NaN       NaN   \n",
      "\n",
      "     9-5-2014  10-5-2014  11-5-2014  12-5-2014  13-5-2014    steps_mean  \n",
      "0         NaN        NaN        NaN        NaN        NaN  10205.521212  \n",
      "1         NaN        NaN        NaN        NaN        NaN   5687.423313  \n",
      "2      6227.0     4567.0     2567.0     1129.0        NaN   8301.729730  \n",
      "3         NaN        NaN        NaN        NaN        NaN   3633.200000  \n",
      "4         NaN        NaN        NaN        NaN        NaN   5312.129630  \n",
      "..        ...        ...        ...        ...        ...           ...  \n",
      "924       NaN        NaN        NaN        NaN        NaN   6282.131868  \n",
      "925       NaN        NaN        NaN        NaN        NaN   4799.880000  \n",
      "926       NaN        NaN        NaN        NaN        NaN  10030.326829  \n",
      "927       NaN        NaN        NaN        NaN        NaN  15679.679012  \n",
      "928       NaN        NaN        NaN        NaN        NaN   7584.467153  \n",
      "\n",
      "[929 rows x 338 columns]\n"
     ]
    }
   ],
   "source": [
    "df_merged = pd.merge(survey, steps, on = 'id')\n",
    "print(df_merged)"
   ]
  },
  {
   "cell_type": "markdown",
   "id": "1afe3239",
   "metadata": {},
   "source": [
    "- door de df te beschrijven blijken er wellicht dat er waardes niet helemaal kloppen"
   ]
  },
  {
   "cell_type": "code",
   "execution_count": 5,
   "id": "dcfab46d",
   "metadata": {},
   "outputs": [
    {
     "data": {
      "text/html": [
       "<div>\n",
       "<style scoped>\n",
       "    .dataframe tbody tr th:only-of-type {\n",
       "        vertical-align: middle;\n",
       "    }\n",
       "\n",
       "    .dataframe tbody tr th {\n",
       "        vertical-align: top;\n",
       "    }\n",
       "\n",
       "    .dataframe thead th {\n",
       "        text-align: right;\n",
       "    }\n",
       "</style>\n",
       "<table border=\"1\" class=\"dataframe\">\n",
       "  <thead>\n",
       "    <tr style=\"text-align: right;\">\n",
       "      <th></th>\n",
       "      <th>id</th>\n",
       "      <th>hh_size</th>\n",
       "      <th>education</th>\n",
       "      <th>height</th>\n",
       "      <th>weight</th>\n",
       "      <th>20-6-2013</th>\n",
       "      <th>21-6-2013</th>\n",
       "      <th>22-6-2013</th>\n",
       "      <th>23-6-2013</th>\n",
       "      <th>24-6-2013</th>\n",
       "      <th>...</th>\n",
       "      <th>5-5-2014</th>\n",
       "      <th>6-5-2014</th>\n",
       "      <th>7-5-2014</th>\n",
       "      <th>8-5-2014</th>\n",
       "      <th>9-5-2014</th>\n",
       "      <th>10-5-2014</th>\n",
       "      <th>11-5-2014</th>\n",
       "      <th>12-5-2014</th>\n",
       "      <th>13-5-2014</th>\n",
       "      <th>steps_mean</th>\n",
       "    </tr>\n",
       "  </thead>\n",
       "  <tbody>\n",
       "    <tr>\n",
       "      <th>count</th>\n",
       "      <td>929.000000</td>\n",
       "      <td>929.000000</td>\n",
       "      <td>929.000000</td>\n",
       "      <td>928.000000</td>\n",
       "      <td>927.000000</td>\n",
       "      <td>24.000000</td>\n",
       "      <td>243.000000</td>\n",
       "      <td>278.000000</td>\n",
       "      <td>296.000000</td>\n",
       "      <td>354.000000</td>\n",
       "      <td>...</td>\n",
       "      <td>78.000000</td>\n",
       "      <td>56.000000</td>\n",
       "      <td>56.000000</td>\n",
       "      <td>49.000000</td>\n",
       "      <td>71.000000</td>\n",
       "      <td>86.000000</td>\n",
       "      <td>81.000000</td>\n",
       "      <td>66.000000</td>\n",
       "      <td>0.0</td>\n",
       "      <td>925.000000</td>\n",
       "    </tr>\n",
       "    <tr>\n",
       "      <th>mean</th>\n",
       "      <td>465.000000</td>\n",
       "      <td>2.342304</td>\n",
       "      <td>2.530678</td>\n",
       "      <td>171.668103</td>\n",
       "      <td>72.833873</td>\n",
       "      <td>3642.416667</td>\n",
       "      <td>9034.724280</td>\n",
       "      <td>10889.636691</td>\n",
       "      <td>7402.847973</td>\n",
       "      <td>8110.370056</td>\n",
       "      <td>...</td>\n",
       "      <td>6897.923077</td>\n",
       "      <td>8434.303571</td>\n",
       "      <td>9870.107143</td>\n",
       "      <td>7209.693878</td>\n",
       "      <td>9570.690141</td>\n",
       "      <td>7614.848837</td>\n",
       "      <td>6805.925926</td>\n",
       "      <td>7505.530303</td>\n",
       "      <td>NaN</td>\n",
       "      <td>7093.010643</td>\n",
       "    </tr>\n",
       "    <tr>\n",
       "      <th>std</th>\n",
       "      <td>268.323499</td>\n",
       "      <td>1.226129</td>\n",
       "      <td>1.274491</td>\n",
       "      <td>9.080235</td>\n",
       "      <td>25.902717</td>\n",
       "      <td>3951.910368</td>\n",
       "      <td>6412.774483</td>\n",
       "      <td>6283.204309</td>\n",
       "      <td>6733.291773</td>\n",
       "      <td>5495.536639</td>\n",
       "      <td>...</td>\n",
       "      <td>5915.429173</td>\n",
       "      <td>4960.932295</td>\n",
       "      <td>6812.625746</td>\n",
       "      <td>7539.387846</td>\n",
       "      <td>7264.297875</td>\n",
       "      <td>5521.711875</td>\n",
       "      <td>8458.979146</td>\n",
       "      <td>4706.609481</td>\n",
       "      <td>NaN</td>\n",
       "      <td>8839.458754</td>\n",
       "    </tr>\n",
       "    <tr>\n",
       "      <th>min</th>\n",
       "      <td>1.000000</td>\n",
       "      <td>1.000000</td>\n",
       "      <td>1.000000</td>\n",
       "      <td>145.000000</td>\n",
       "      <td>6.000000</td>\n",
       "      <td>164.000000</td>\n",
       "      <td>67.000000</td>\n",
       "      <td>25.000000</td>\n",
       "      <td>43.000000</td>\n",
       "      <td>11.000000</td>\n",
       "      <td>...</td>\n",
       "      <td>12.000000</td>\n",
       "      <td>90.000000</td>\n",
       "      <td>88.000000</td>\n",
       "      <td>8.000000</td>\n",
       "      <td>664.000000</td>\n",
       "      <td>103.000000</td>\n",
       "      <td>12.000000</td>\n",
       "      <td>388.000000</td>\n",
       "      <td>NaN</td>\n",
       "      <td>4.000000</td>\n",
       "    </tr>\n",
       "    <tr>\n",
       "      <th>25%</th>\n",
       "      <td>233.000000</td>\n",
       "      <td>1.000000</td>\n",
       "      <td>1.000000</td>\n",
       "      <td>165.000000</td>\n",
       "      <td>61.000000</td>\n",
       "      <td>299.500000</td>\n",
       "      <td>4395.500000</td>\n",
       "      <td>6524.250000</td>\n",
       "      <td>2726.750000</td>\n",
       "      <td>4428.250000</td>\n",
       "      <td>...</td>\n",
       "      <td>2082.000000</td>\n",
       "      <td>5525.750000</td>\n",
       "      <td>5629.500000</td>\n",
       "      <td>3393.000000</td>\n",
       "      <td>5149.000000</td>\n",
       "      <td>3950.000000</td>\n",
       "      <td>2510.000000</td>\n",
       "      <td>4932.000000</td>\n",
       "      <td>NaN</td>\n",
       "      <td>4636.000000</td>\n",
       "    </tr>\n",
       "    <tr>\n",
       "      <th>50%</th>\n",
       "      <td>465.000000</td>\n",
       "      <td>2.000000</td>\n",
       "      <td>2.000000</td>\n",
       "      <td>172.000000</td>\n",
       "      <td>71.000000</td>\n",
       "      <td>834.000000</td>\n",
       "      <td>8561.000000</td>\n",
       "      <td>9980.000000</td>\n",
       "      <td>5652.000000</td>\n",
       "      <td>7740.000000</td>\n",
       "      <td>...</td>\n",
       "      <td>6460.000000</td>\n",
       "      <td>7834.500000</td>\n",
       "      <td>9331.000000</td>\n",
       "      <td>5378.000000</td>\n",
       "      <td>7235.000000</td>\n",
       "      <td>6627.000000</td>\n",
       "      <td>3120.000000</td>\n",
       "      <td>6568.500000</td>\n",
       "      <td>NaN</td>\n",
       "      <td>6245.006061</td>\n",
       "    </tr>\n",
       "    <tr>\n",
       "      <th>75%</th>\n",
       "      <td>697.000000</td>\n",
       "      <td>3.000000</td>\n",
       "      <td>4.000000</td>\n",
       "      <td>179.000000</td>\n",
       "      <td>81.000000</td>\n",
       "      <td>6060.000000</td>\n",
       "      <td>12182.000000</td>\n",
       "      <td>14338.750000</td>\n",
       "      <td>10472.750000</td>\n",
       "      <td>10464.000000</td>\n",
       "      <td>...</td>\n",
       "      <td>9899.000000</td>\n",
       "      <td>11691.000000</td>\n",
       "      <td>14239.250000</td>\n",
       "      <td>8907.000000</td>\n",
       "      <td>12062.500000</td>\n",
       "      <td>10031.500000</td>\n",
       "      <td>6544.000000</td>\n",
       "      <td>9549.000000</td>\n",
       "      <td>NaN</td>\n",
       "      <td>8399.670213</td>\n",
       "    </tr>\n",
       "    <tr>\n",
       "      <th>max</th>\n",
       "      <td>929.000000</td>\n",
       "      <td>11.000000</td>\n",
       "      <td>5.000000</td>\n",
       "      <td>195.000000</td>\n",
       "      <td>700.000000</td>\n",
       "      <td>11157.000000</td>\n",
       "      <td>44944.000000</td>\n",
       "      <td>39165.000000</td>\n",
       "      <td>40392.000000</td>\n",
       "      <td>29862.000000</td>\n",
       "      <td>...</td>\n",
       "      <td>26654.000000</td>\n",
       "      <td>26660.000000</td>\n",
       "      <td>38400.000000</td>\n",
       "      <td>37530.000000</td>\n",
       "      <td>33379.000000</td>\n",
       "      <td>27605.000000</td>\n",
       "      <td>36031.000000</td>\n",
       "      <td>33660.000000</td>\n",
       "      <td>NaN</td>\n",
       "      <td>250638.250000</td>\n",
       "    </tr>\n",
       "  </tbody>\n",
       "</table>\n",
       "<p>8 rows × 334 columns</p>\n",
       "</div>"
      ],
      "text/plain": [
       "               id     hh_size   education      height      weight  \\\n",
       "count  929.000000  929.000000  929.000000  928.000000  927.000000   \n",
       "mean   465.000000    2.342304    2.530678  171.668103   72.833873   \n",
       "std    268.323499    1.226129    1.274491    9.080235   25.902717   \n",
       "min      1.000000    1.000000    1.000000  145.000000    6.000000   \n",
       "25%    233.000000    1.000000    1.000000  165.000000   61.000000   \n",
       "50%    465.000000    2.000000    2.000000  172.000000   71.000000   \n",
       "75%    697.000000    3.000000    4.000000  179.000000   81.000000   \n",
       "max    929.000000   11.000000    5.000000  195.000000  700.000000   \n",
       "\n",
       "          20-6-2013     21-6-2013     22-6-2013     23-6-2013     24-6-2013  \\\n",
       "count     24.000000    243.000000    278.000000    296.000000    354.000000   \n",
       "mean    3642.416667   9034.724280  10889.636691   7402.847973   8110.370056   \n",
       "std     3951.910368   6412.774483   6283.204309   6733.291773   5495.536639   \n",
       "min      164.000000     67.000000     25.000000     43.000000     11.000000   \n",
       "25%      299.500000   4395.500000   6524.250000   2726.750000   4428.250000   \n",
       "50%      834.000000   8561.000000   9980.000000   5652.000000   7740.000000   \n",
       "75%     6060.000000  12182.000000  14338.750000  10472.750000  10464.000000   \n",
       "max    11157.000000  44944.000000  39165.000000  40392.000000  29862.000000   \n",
       "\n",
       "       ...      5-5-2014      6-5-2014      7-5-2014      8-5-2014  \\\n",
       "count  ...     78.000000     56.000000     56.000000     49.000000   \n",
       "mean   ...   6897.923077   8434.303571   9870.107143   7209.693878   \n",
       "std    ...   5915.429173   4960.932295   6812.625746   7539.387846   \n",
       "min    ...     12.000000     90.000000     88.000000      8.000000   \n",
       "25%    ...   2082.000000   5525.750000   5629.500000   3393.000000   \n",
       "50%    ...   6460.000000   7834.500000   9331.000000   5378.000000   \n",
       "75%    ...   9899.000000  11691.000000  14239.250000   8907.000000   \n",
       "max    ...  26654.000000  26660.000000  38400.000000  37530.000000   \n",
       "\n",
       "           9-5-2014     10-5-2014     11-5-2014     12-5-2014  13-5-2014  \\\n",
       "count     71.000000     86.000000     81.000000     66.000000        0.0   \n",
       "mean    9570.690141   7614.848837   6805.925926   7505.530303        NaN   \n",
       "std     7264.297875   5521.711875   8458.979146   4706.609481        NaN   \n",
       "min      664.000000    103.000000     12.000000    388.000000        NaN   \n",
       "25%     5149.000000   3950.000000   2510.000000   4932.000000        NaN   \n",
       "50%     7235.000000   6627.000000   3120.000000   6568.500000        NaN   \n",
       "75%    12062.500000  10031.500000   6544.000000   9549.000000        NaN   \n",
       "max    33379.000000  27605.000000  36031.000000  33660.000000        NaN   \n",
       "\n",
       "          steps_mean  \n",
       "count     925.000000  \n",
       "mean     7093.010643  \n",
       "std      8839.458754  \n",
       "min         4.000000  \n",
       "25%      4636.000000  \n",
       "50%      6245.006061  \n",
       "75%      8399.670213  \n",
       "max    250638.250000  \n",
       "\n",
       "[8 rows x 334 columns]"
      ]
     },
     "execution_count": 5,
     "metadata": {},
     "output_type": "execute_result"
    }
   ],
   "source": [
    "df_merged.describe()\n"
   ]
  },
  {
   "cell_type": "markdown",
   "id": "57ebb81f",
   "metadata": {},
   "source": [
    "het lijkt mij sterk dat er iemand is die 700 kilo weegt, dus gaan wij even kijken of er nog meer van dat soort rare gewichten tussen zitten "
   ]
  },
  {
   "cell_type": "code",
   "execution_count": 6,
   "id": "68a545f9",
   "metadata": {},
   "outputs": [
    {
     "data": {
      "image/png": "[encoded data removed]",
      "text/plain": [
       "<Figure size 360x360 with 1 Axes>"
      ]
     },
     "metadata": {
      "needs_background": "light"
     },
     "output_type": "display_data"
    }
   ],
   "source": [
    "sns.displot(x=\"weight\", data = df_merged)\n",
    "plt.show()"
   ]
  },
  {
   "cell_type": "markdown",
   "id": "723ddf82",
   "metadata": {},
   "source": [
    "het ziet er naar uit dat er alleen 1 waarde afwijkt (700), die wordt dus vervangen met een nan waarde "
   ]
  },
  {
   "cell_type": "code",
   "execution_count": 7,
   "id": "eb4e02d1",
   "metadata": {},
   "outputs": [],
   "source": [
    "df_merged[\"weight\"]=df_merged[\"weight\"].replace(700,np.nan)"
   ]
  },
  {
   "cell_type": "code",
   "execution_count": 8,
   "id": "c0c08a39",
   "metadata": {},
   "outputs": [
    {
     "data": {
      "image/png": "[encoded data removed]",
      "text/plain": [
       "<Figure size 360x360 with 1 Axes>"
      ]
     },
     "metadata": {
      "needs_background": "light"
     },
     "output_type": "display_data"
    }
   ],
   "source": [
    "sns.displot(x=\"weight\", data = df_merged)\n",
    "plt.show()"
   ]
  },
  {
   "cell_type": "markdown",
   "id": "32a7119a",
   "metadata": {},
   "source": [
    "voor de rest zien alle waardes er wel prima uit "
   ]
  },
  {
   "cell_type": "markdown",
   "id": "dd758581",
   "metadata": {},
   "source": [
    "nu gaan wij kijken naar de mean steps per participant om te kijken of daar rare dingen aan de hand zijn "
   ]
  },
  {
   "cell_type": "code",
   "execution_count": 9,
   "id": "c4574856",
   "metadata": {},
   "outputs": [
    {
     "data": {
      "text/plain": [
       "<seaborn.axisgrid.FacetGrid at 0x7ff58b9725e0>"
      ]
     },
     "execution_count": 9,
     "metadata": {},
     "output_type": "execute_result"
    },
    {
     "data": {
      "image/png": "[encoded data removed]",
      "text/plain": [
       "<Figure size 360x360 with 1 Axes>"
      ]
     },
     "metadata": {
      "needs_background": "light"
     },
     "output_type": "display_data"
    }
   ],
   "source": [
    "sns.displot(x=\"steps_mean\", data = df_merged)"
   ]
  },
  {
   "cell_type": "markdown",
   "id": "569c422c",
   "metadata": {},
   "source": [
    "250000 steppen lijkt mij wel heel veel. Alles boven 75000 verwijderen"
   ]
  },
  {
   "cell_type": "code",
   "execution_count": 10,
   "id": "22d7ed1b",
   "metadata": {},
   "outputs": [],
   "source": [
    "df_merged=df_merged[df_merged['steps_mean']<75000]"
   ]
  },
  {
   "cell_type": "code",
   "execution_count": 11,
   "id": "46019163",
   "metadata": {},
   "outputs": [
    {
     "data": {
      "text/plain": [
       "<seaborn.axisgrid.FacetGrid at 0x7ff591363310>"
      ]
     },
     "execution_count": 11,
     "metadata": {},
     "output_type": "execute_result"
    },
    {
     "data": {
      "image/png": "[encoded data removed]",
      "text/plain": [
       "<Figure size 360x360 with 1 Axes>"
      ]
     },
     "metadata": {
      "needs_background": "light"
     },
     "output_type": "display_data"
    }
   ],
   "source": [
    "sns.displot(x=\"steps_mean\", data = df_merged)\n"
   ]
  },
  {
   "cell_type": "markdown",
   "id": "b070d3e2",
   "metadata": {},
   "source": [
    "60000 stappen lijkt mij wel echt onredelijk veel, maar tegelijkertijd wel mogelijk, dus worden die er ingelaten "
   ]
  },
  {
   "cell_type": "code",
   "execution_count": 12,
   "id": "eb78580d",
   "metadata": {},
   "outputs": [
    {
     "name": "stdout",
     "output_type": "stream",
     "text": [
      "6244.931601731601\n",
      "6829.433544423148\n",
      "3726.7467779668777\n"
     ]
    }
   ],
   "source": [
    "print(df_merged['steps_mean'].median())\n",
    "print(df_merged['steps_mean'].mean())\n",
    "print(df_merged['steps_mean'].std())"
   ]
  },
  {
   "cell_type": "markdown",
   "id": "df92469e",
   "metadata": {},
   "source": [
    "seems about right "
   ]
  },
  {
   "cell_type": "markdown",
   "id": "e33a2081",
   "metadata": {},
   "source": [
    "# The relation of mean steps per participant with two categorical variables:\n",
    "\n",
    "- gender en mean steps - gender\n",
    "- education en mean steps - education_1"
   ]
  },
  {
   "cell_type": "code",
   "execution_count": 13,
   "id": "0a55ab0d",
   "metadata": {},
   "outputs": [
    {
     "data": {
      "text/plain": [
       "<AxesSubplot:xlabel='gender', ylabel='steps_mean'>"
      ]
     },
     "execution_count": 13,
     "metadata": {},
     "output_type": "execute_result"
    },
    {
     "data": {
      "image/png": "[encoded data removed]",
      "text/plain": [
       "<Figure size 432x288 with 1 Axes>"
      ]
     },
     "metadata": {
      "needs_background": "light"
     },
     "output_type": "display_data"
    }
   ],
   "source": [
    "sns.boxplot(y=\"steps_mean\", x= \"gender\", data=df_merged)"
   ]
  },
  {
   "cell_type": "code",
   "execution_count": 14,
   "id": "1b746e5c",
   "metadata": {},
   "outputs": [
    {
     "data": {
      "text/plain": [
       "<AxesSubplot:xlabel='education_1', ylabel='steps_mean'>"
      ]
     },
     "execution_count": 14,
     "metadata": {},
     "output_type": "execute_result"
    },
    {
     "data": {
      "image/png": "[encoded data removed]",
      "text/plain": [
       "<Figure size 432x288 with 1 Axes>"
      ]
     },
     "metadata": {
      "needs_background": "light"
     },
     "output_type": "display_data"
    }
   ],
   "source": [
    "sns.boxplot(y=\"steps_mean\", x= \"education_1\", data=df_merged)"
   ]
  },
  {
   "cell_type": "markdown",
   "id": "82eaeddd",
   "metadata": {},
   "source": [
    "# weekly assignment 2: fitbit \n",
    "    \n",
    "- Feature engineering\n",
    "The prediction of the model can be improved by computing a variable that gives a better indication of a healthy weight than weight alone. Can you think of one? If not, just skip this step.\n",
    "- Exploratory data analysis\n",
    "See last week for the first part (distribution of steps). In addition:\n",
    "Make a scatterplot matrix of the numerical variables\n",
    "Make a correlation matrix of the numerical variables\n",
    "Describe and interpret the results"
   ]
  },
  {
   "cell_type": "markdown",
   "id": "40451572",
   "metadata": {},
   "source": [
    "to give a better indication of weight alone, we can add the BMI"
   ]
  },
  {
   "cell_type": "code",
   "execution_count": 15,
   "id": "d067f646",
   "metadata": {},
   "outputs": [
    {
     "name": "stdout",
     "output_type": "stream",
     "text": [
      "      id         city  gender    age  hh_size  education          education_1  \\\n",
      "0      1     Bordeaux    Male  25-34        4          4  Master or doctorate   \n",
      "1      2        Lille    Male  35-44        1          3             Bachelor   \n",
      "2      3  Montpellier    Male  25-34        2          2  Master or doctorate   \n",
      "3      4         Lyon    Male    <25        1          1             Bachelor   \n",
      "4      5  Montpellier  Female  25-34        3          4             Bachelor   \n",
      "..   ...          ...     ...    ...      ...        ...                  ...   \n",
      "924  925        Lille  Female  45-54        3          4  Master or doctorate   \n",
      "925  926        Lille    Male    <25        3          5             Bachelor   \n",
      "926  927  Montpellier    Male  35-44        2          2             Bachelor   \n",
      "927  928        Lille  Female  55-64        1          1          High school   \n",
      "928  929         Lyon    Male  25-34        2          2          High school   \n",
      "\n",
      "     height  weight  20-6-2013  ...  8-5-2014  9-5-2014  10-5-2014  11-5-2014  \\\n",
      "0     178.0    98.0        NaN  ...       NaN       NaN        NaN        NaN   \n",
      "1     180.0    77.0        NaN  ...       NaN       NaN        NaN        NaN   \n",
      "2     180.0    83.0        NaN  ...       NaN    6227.0     4567.0     2567.0   \n",
      "3     178.0    80.0        NaN  ...       NaN       NaN        NaN        NaN   \n",
      "4     167.0    61.0        NaN  ...       NaN       NaN        NaN        NaN   \n",
      "..      ...     ...        ...  ...       ...       ...        ...        ...   \n",
      "924   165.0    59.0        NaN  ...       NaN       NaN        NaN        NaN   \n",
      "925   192.0    90.0        NaN  ...       NaN       NaN        NaN        NaN   \n",
      "926   181.0    71.0        NaN  ...       NaN       NaN        NaN        NaN   \n",
      "927   172.0    65.0        NaN  ...       NaN       NaN        NaN        NaN   \n",
      "928   180.0    76.0        NaN  ...       NaN       NaN        NaN        NaN   \n",
      "\n",
      "     12-5-2014  13-5-2014    steps_mean  height_in_meters  height^2        BMI  \n",
      "0          NaN        NaN  10205.521212              1.78    3.1684  30.930438  \n",
      "1          NaN        NaN   5687.423313              1.80    3.2400  23.765432  \n",
      "2       1129.0        NaN   8301.729730              1.80    3.2400  25.617284  \n",
      "3          NaN        NaN   3633.200000              1.78    3.1684  25.249337  \n",
      "4          NaN        NaN   5312.129630              1.67    2.7889  21.872423  \n",
      "..         ...        ...           ...               ...       ...        ...  \n",
      "924        NaN        NaN   6282.131868              1.65    2.7225  21.671258  \n",
      "925        NaN        NaN   4799.880000              1.92    3.6864  24.414062  \n",
      "926        NaN        NaN  10030.326829              1.81    3.2761  21.672110  \n",
      "927        NaN        NaN  15679.679012              1.72    2.9584  21.971336  \n",
      "928        NaN        NaN   7584.467153              1.80    3.2400  23.456790  \n",
      "\n",
      "[924 rows x 341 columns]\n"
     ]
    }
   ],
   "source": [
    "df_merged['height_in_meters'] = df_merged['height']/100\n",
    "df_merged['height^2'] = df_merged['height_in_meters']*df_merged['height_in_meters']\n",
    "df_merged['BMI'] = df_merged['weight']/df_merged['height^2']\n",
    "print(df_merged)\n"
   ]
  },
  {
   "cell_type": "markdown",
   "id": "05d6b54e",
   "metadata": {},
   "source": [
    "# Make a scatterplot matrix of the numerical variables\n",
    "numerical variables:\n",
    "- age \n",
    "- hh_size \n",
    "- education \n",
    "- height \n",
    "- weight \n",
    "- steps_mean \n",
    "- BMI\n"
   ]
  },
  {
   "cell_type": "code",
   "execution_count": 16,
   "id": "4dd60e27",
   "metadata": {},
   "outputs": [
    {
     "data": {
      "image/png": "[encoded data removed]",
      "text/plain": [
       "<Figure size 1080x1080 with 42 Axes>"
      ]
     },
     "metadata": {
      "needs_background": "light"
     },
     "output_type": "display_data"
    }
   ],
   "source": [
    "df_sel = df_merged[['age', 'hh_size', 'education', 'height', 'weight', 'steps_mean', 'BMI']]\n",
    "\n",
    "sns.pairplot(df_sel)\n",
    "plt.show()"
   ]
  },
  {
   "cell_type": "markdown",
   "id": "d970059f",
   "metadata": {},
   "source": [
    "# Make a correlation matrix of the numerical variables"
   ]
  },
  {
   "cell_type": "code",
   "execution_count": 17,
   "id": "74fecfa4",
   "metadata": {},
   "outputs": [
    {
     "name": "stdout",
     "output_type": "stream",
     "text": [
      "             hh_size  education    height    weight  steps_mean       BMI\n",
      "hh_size     1.000000   0.824982 -0.056189  0.001202    0.035761  0.027477\n",
      "education   0.824982   1.000000 -0.043715 -0.002341    0.041097  0.014347\n",
      "height     -0.056189  -0.043715  1.000000  0.514950   -0.097169  0.038336\n",
      "weight      0.001202  -0.002341  0.514950  1.000000   -0.085238  0.871191\n",
      "steps_mean  0.035761   0.041097 -0.097169 -0.085238    1.000000 -0.044964\n",
      "BMI         0.027477   0.014347  0.038336  0.871191   -0.044964  1.000000\n"
     ]
    }
   ],
   "source": [
    "corr =df_sel.corr()\n",
    "print(corr)"
   ]
  },
  {
   "cell_type": "markdown",
   "id": "3d81a649",
   "metadata": {},
   "source": [
    "# Describe and interpret the results\n",
    "\n",
    "- i have no idea what hh_size means but is has a very significant correlation with education \n",
    "- height and weight are obviously correlated because usually if you are taller you are heavier \n",
    "- BMI and weigt has the highest correlation of them all, but BMI and height on the other hand does not, that is probably because the difference in heights is lower that the differnces in weights \n"
   ]
  },
  {
   "cell_type": "markdown",
   "id": "ad2909e7",
   "metadata": {},
   "source": [
    "# weekly assignment 3\n",
    "\n",
    "**Predictive model\n",
    "\n",
    "- Explain linear regression in your own words\n",
    "- Create dummy variables for the categorical variables\n",
    "- Fit a linear regression model to predict the mean steps per participant, using the training data. You can include all variables (easy), or you can try to find the combination that gives you the best fit (harder).\n",
    "\n",
    "**Evaluation\n",
    "\n",
    "- Evaluate the model on the test data\n",
    "\n",
    "*Predictive power of the model (R2, RMSE)\n",
    "*Investigate the residuals\n",
    "\n",
    "- Describe and interpret the results\n",
    "\n",
    "**Conclusion"
   ]
  },
  {
   "cell_type": "markdown",
   "id": "5f105fec",
   "metadata": {},
   "source": [
    "# explain linear regression in your own words:\n",
    "- linear regression is a predictive model that is meant to predict a sertain value when new variables are given. the better the model the better it is in predicting the correct value. in other words: the errors is smaller than when the model is bad. the error is the differnce in the predicted (calculated via model) value and the actual (real) value."
   ]
  },
  {
   "cell_type": "markdown",
   "id": "817eec01",
   "metadata": {},
   "source": [
    "# Create dummy variables for the categorical variables\n",
    "dummer variables:\n",
    "- city \n",
    "- gender \n",
    "- education_1\n",
    "- age "
   ]
  },
  {
   "cell_type": "code",
   "execution_count": 18,
   "id": "711475a0",
   "metadata": {},
   "outputs": [
    {
     "data": {
      "text/plain": [
       "Lille          501\n",
       "Montpellier    153\n",
       "Lyon           142\n",
       "Bordeaux       128\n",
       "Name: city, dtype: int64"
      ]
     },
     "execution_count": 18,
     "metadata": {},
     "output_type": "execute_result"
    }
   ],
   "source": [
    "df_sub=df_merged[['city', 'gender', 'education_1', 'age']]#to get all the categorical variables \n",
    "df_sub['city'].value_counts()#to look what levels it contains \n"
   ]
  },
  {
   "cell_type": "code",
   "execution_count": 19,
   "id": "36cb1ad8",
   "metadata": {},
   "outputs": [
    {
     "data": {
      "text/plain": [
       "Male      491\n",
       "Female    433\n",
       "Name: gender, dtype: int64"
      ]
     },
     "execution_count": 19,
     "metadata": {},
     "output_type": "execute_result"
    }
   ],
   "source": [
    "df_sub['gender'].value_counts()#to look what levels it contains "
   ]
  },
  {
   "cell_type": "code",
   "execution_count": 20,
   "id": "ab10037c",
   "metadata": {},
   "outputs": [
    {
     "data": {
      "text/plain": [
       "Master or doctorate    409\n",
       "Bachelor               355\n",
       "High school            106\n",
       "Vocational              40\n",
       "Primary                 13\n",
       "No degree                1\n",
       "Name: education_1, dtype: int64"
      ]
     },
     "execution_count": 20,
     "metadata": {},
     "output_type": "execute_result"
    }
   ],
   "source": [
    "df_sub['education_1'].value_counts()#to look what levels it contains "
   ]
  },
  {
   "cell_type": "code",
   "execution_count": 21,
   "id": "b3c6b40c",
   "metadata": {},
   "outputs": [
    {
     "data": {
      "text/plain": [
       "25-34    425\n",
       "35-44    176\n",
       "45-54    146\n",
       "<25      124\n",
       "55-64     46\n",
       "65+        7\n",
       "Name: age, dtype: int64"
      ]
     },
     "execution_count": 21,
     "metadata": {},
     "output_type": "execute_result"
    }
   ],
   "source": [
    "df_sub['age'].value_counts()#to look what levels it contains"
   ]
  },
  {
   "cell_type": "code",
   "execution_count": 22,
   "id": "73317470",
   "metadata": {},
   "outputs": [
    {
     "data": {
      "text/html": [
       "<div>\n",
       "<style scoped>\n",
       "    .dataframe tbody tr th:only-of-type {\n",
       "        vertical-align: middle;\n",
       "    }\n",
       "\n",
       "    .dataframe tbody tr th {\n",
       "        vertical-align: top;\n",
       "    }\n",
       "\n",
       "    .dataframe thead th {\n",
       "        text-align: right;\n",
       "    }\n",
       "</style>\n",
       "<table border=\"1\" class=\"dataframe\">\n",
       "  <thead>\n",
       "    <tr style=\"text-align: right;\">\n",
       "      <th></th>\n",
       "      <th>city_Lille</th>\n",
       "      <th>city_Lyon</th>\n",
       "      <th>city_Montpellier</th>\n",
       "      <th>gender_Male</th>\n",
       "      <th>education_1_High school</th>\n",
       "      <th>education_1_Master or doctorate</th>\n",
       "      <th>education_1_No degree</th>\n",
       "      <th>education_1_Primary</th>\n",
       "      <th>education_1_Vocational</th>\n",
       "      <th>age_35-44</th>\n",
       "      <th>age_45-54</th>\n",
       "      <th>age_55-64</th>\n",
       "      <th>age_65+</th>\n",
       "      <th>age_&lt;25</th>\n",
       "    </tr>\n",
       "  </thead>\n",
       "  <tbody>\n",
       "    <tr>\n",
       "      <th>0</th>\n",
       "      <td>0</td>\n",
       "      <td>0</td>\n",
       "      <td>0</td>\n",
       "      <td>1</td>\n",
       "      <td>0</td>\n",
       "      <td>1</td>\n",
       "      <td>0</td>\n",
       "      <td>0</td>\n",
       "      <td>0</td>\n",
       "      <td>0</td>\n",
       "      <td>0</td>\n",
       "      <td>0</td>\n",
       "      <td>0</td>\n",
       "      <td>0</td>\n",
       "    </tr>\n",
       "    <tr>\n",
       "      <th>1</th>\n",
       "      <td>1</td>\n",
       "      <td>0</td>\n",
       "      <td>0</td>\n",
       "      <td>1</td>\n",
       "      <td>0</td>\n",
       "      <td>0</td>\n",
       "      <td>0</td>\n",
       "      <td>0</td>\n",
       "      <td>0</td>\n",
       "      <td>1</td>\n",
       "      <td>0</td>\n",
       "      <td>0</td>\n",
       "      <td>0</td>\n",
       "      <td>0</td>\n",
       "    </tr>\n",
       "    <tr>\n",
       "      <th>2</th>\n",
       "      <td>0</td>\n",
       "      <td>0</td>\n",
       "      <td>1</td>\n",
       "      <td>1</td>\n",
       "      <td>0</td>\n",
       "      <td>1</td>\n",
       "      <td>0</td>\n",
       "      <td>0</td>\n",
       "      <td>0</td>\n",
       "      <td>0</td>\n",
       "      <td>0</td>\n",
       "      <td>0</td>\n",
       "      <td>0</td>\n",
       "      <td>0</td>\n",
       "    </tr>\n",
       "    <tr>\n",
       "      <th>3</th>\n",
       "      <td>0</td>\n",
       "      <td>1</td>\n",
       "      <td>0</td>\n",
       "      <td>1</td>\n",
       "      <td>0</td>\n",
       "      <td>0</td>\n",
       "      <td>0</td>\n",
       "      <td>0</td>\n",
       "      <td>0</td>\n",
       "      <td>0</td>\n",
       "      <td>0</td>\n",
       "      <td>0</td>\n",
       "      <td>0</td>\n",
       "      <td>1</td>\n",
       "    </tr>\n",
       "    <tr>\n",
       "      <th>4</th>\n",
       "      <td>0</td>\n",
       "      <td>0</td>\n",
       "      <td>1</td>\n",
       "      <td>0</td>\n",
       "      <td>0</td>\n",
       "      <td>0</td>\n",
       "      <td>0</td>\n",
       "      <td>0</td>\n",
       "      <td>0</td>\n",
       "      <td>0</td>\n",
       "      <td>0</td>\n",
       "      <td>0</td>\n",
       "      <td>0</td>\n",
       "      <td>0</td>\n",
       "    </tr>\n",
       "  </tbody>\n",
       "</table>\n",
       "</div>"
      ],
      "text/plain": [
       "   city_Lille  city_Lyon  city_Montpellier  gender_Male  \\\n",
       "0           0          0                 0            1   \n",
       "1           1          0                 0            1   \n",
       "2           0          0                 1            1   \n",
       "3           0          1                 0            1   \n",
       "4           0          0                 1            0   \n",
       "\n",
       "   education_1_High school  education_1_Master or doctorate  \\\n",
       "0                        0                                1   \n",
       "1                        0                                0   \n",
       "2                        0                                1   \n",
       "3                        0                                0   \n",
       "4                        0                                0   \n",
       "\n",
       "   education_1_No degree  education_1_Primary  education_1_Vocational  \\\n",
       "0                      0                    0                       0   \n",
       "1                      0                    0                       0   \n",
       "2                      0                    0                       0   \n",
       "3                      0                    0                       0   \n",
       "4                      0                    0                       0   \n",
       "\n",
       "   age_35-44  age_45-54  age_55-64  age_65+  age_<25  \n",
       "0          0          0          0        0        0  \n",
       "1          1          0          0        0        0  \n",
       "2          0          0          0        0        0  \n",
       "3          0          0          0        0        1  \n",
       "4          0          0          0        0        0  "
      ]
     },
     "execution_count": 22,
     "metadata": {},
     "output_type": "execute_result"
    }
   ],
   "source": [
    "df = pd.get_dummies(df_sub, drop_first= True)#create dummy table for all the categorical variables \n",
    "df.head()"
   ]
  },
  {
   "cell_type": "markdown",
   "id": "f4e38852",
   "metadata": {},
   "source": [
    "# Fit a linear regression model to predict the mean steps per participant, using the training data. You can include all variables (easy), or you can try to find the combination that gives you the best fit (harder)."
   ]
  },
  {
   "cell_type": "code",
   "execution_count": 23,
   "id": "31418565",
   "metadata": {},
   "outputs": [],
   "source": [
    "x = df #all the independent variables \n",
    "#x = df.loc[:, ~df.columns.isin(['price'])]\n",
    "y = df_merged['steps_mean'] # dependent variable \n",
    "\n",
    "x_train, x_test, y_train, y_test = train_test_split(x, y, test_size = 0.3,random_state=18) #splits the data into train (70%) and test (30%) data"
   ]
  },
  {
   "cell_type": "markdown",
   "id": "5d10bd05",
   "metadata": {},
   "source": [
    "- creating a dataframe with the dependant variables and independant variables to than calculate the corr between all of them to get \"the best fit\" for the independant variables. in other words; which independant variables should be used when fitting the linear regression model:"
   ]
  },
  {
   "cell_type": "code",
   "execution_count": 24,
   "id": "72cd15f6",
   "metadata": {},
   "outputs": [
    {
     "name": "stdout",
     "output_type": "stream",
     "text": [
      "                                 city_Lille  city_Lyon  city_Montpellier  \\\n",
      "city_Lille                         1.000000  -0.463756         -0.484805   \n",
      "city_Lyon                         -0.463756   1.000000         -0.189828   \n",
      "city_Montpellier                  -0.484805  -0.189828          1.000000   \n",
      "gender_Male                       -0.070625   0.003267          0.068254   \n",
      "education_1_High school            0.044483  -0.040398         -0.059860   \n",
      "education_1_Master or doctorate   -0.055817   0.091502          0.060236   \n",
      "education_1_No degree             -0.035822   0.077243         -0.014663   \n",
      "education_1_Primary               -0.000898   0.051014         -0.053215   \n",
      "education_1_Vocational             0.024675  -0.046408         -0.023225   \n",
      "age_35-44                         -0.018967   0.045489          0.013770   \n",
      "age_45-54                          0.016900  -0.044734          0.006583   \n",
      "age_55-64                          0.000584  -0.028551         -0.008258   \n",
      "age_65+                           -0.019928  -0.037231         -0.038921   \n",
      "age_<25                           -0.026981   0.034720         -0.021632   \n",
      "steps_mean                         0.090060  -0.031684         -0.083790   \n",
      "\n",
      "                                 gender_Male  education_1_High school  \\\n",
      "city_Lille                         -0.070625                 0.044483   \n",
      "city_Lyon                           0.003267                -0.040398   \n",
      "city_Montpellier                    0.068254                -0.059860   \n",
      "gender_Male                         1.000000                -0.090695   \n",
      "education_1_High school            -0.090695                 1.000000   \n",
      "education_1_Master or doctorate     0.151354                -0.320800   \n",
      "education_1_No degree               0.030910                -0.011849   \n",
      "education_1_Primary                -0.016720                -0.043002   \n",
      "education_1_Vocational             -0.024036                -0.076574   \n",
      "age_35-44                          -0.036031                -0.001647   \n",
      "age_45-54                          -0.074813                 0.076822   \n",
      "age_55-64                          -0.004425                 0.026902   \n",
      "age_65+                             0.057036                 0.007715   \n",
      "age_<25                             0.007051                -0.002243   \n",
      "steps_mean                         -0.088051                 0.055478   \n",
      "\n",
      "                                 education_1_Master or doctorate  \\\n",
      "city_Lille                                             -0.055817   \n",
      "city_Lyon                                               0.091502   \n",
      "city_Montpellier                                        0.060236   \n",
      "gender_Male                                             0.151354   \n",
      "education_1_High school                                -0.320800   \n",
      "education_1_Master or doctorate                         1.000000   \n",
      "education_1_No degree                                  -0.029333   \n",
      "education_1_Primary                                    -0.106456   \n",
      "education_1_Vocational                                 -0.189567   \n",
      "age_35-44                                              -0.077155   \n",
      "age_45-54                                              -0.045552   \n",
      "age_55-64                                               0.006397   \n",
      "age_65+                                                -0.052733   \n",
      "age_<25                                                -0.114340   \n",
      "steps_mean                                             -0.011319   \n",
      "\n",
      "                                 education_1_No degree  education_1_Primary  \\\n",
      "city_Lille                                   -0.035822            -0.000898   \n",
      "city_Lyon                                     0.077243             0.051014   \n",
      "city_Montpellier                             -0.014663            -0.053215   \n",
      "gender_Male                                   0.030910            -0.016720   \n",
      "education_1_High school                      -0.011849            -0.043002   \n",
      "education_1_Master or doctorate              -0.029333            -0.106456   \n",
      "education_1_No degree                         1.000000            -0.003932   \n",
      "education_1_Primary                          -0.003932             1.000000   \n",
      "education_1_Vocational                       -0.007002            -0.025411   \n",
      "age_35-44                                    -0.015966             0.012258   \n",
      "age_45-54                                    -0.014259             0.049022   \n",
      "age_55-64                                     0.143803             0.014906   \n",
      "age_65+                                      -0.002876            -0.010437   \n",
      "age_<25                                      -0.012959            -0.020073   \n",
      "steps_mean                                    0.000066            -0.001728   \n",
      "\n",
      "                                 education_1_Vocational  age_35-44  age_45-54  \\\n",
      "city_Lille                                     0.024675  -0.018967   0.016900   \n",
      "city_Lyon                                     -0.046408   0.045489  -0.044734   \n",
      "city_Montpellier                              -0.023225   0.013770   0.006583   \n",
      "gender_Male                                   -0.024036  -0.036031  -0.074813   \n",
      "education_1_High school                       -0.076574  -0.001647   0.076822   \n",
      "education_1_Master or doctorate               -0.189567  -0.077155  -0.045552   \n",
      "education_1_No degree                         -0.007002  -0.015966  -0.014259   \n",
      "education_1_Primary                           -0.025411   0.012258   0.049022   \n",
      "education_1_Vocational                         1.000000   0.099959   0.053648   \n",
      "age_35-44                                      0.099959   1.000000  -0.210132   \n",
      "age_45-54                                      0.053648  -0.210132   1.000000   \n",
      "age_55-64                                      0.049113  -0.111029  -0.099156   \n",
      "age_65+                                        0.104077  -0.042381  -0.037849   \n",
      "age_<25                                       -0.052545  -0.190973  -0.170550   \n",
      "steps_mean                                    -0.056108   0.035559   0.064129   \n",
      "\n",
      "                                 age_55-64   age_65+   age_<25  steps_mean  \n",
      "city_Lille                        0.000584 -0.019928 -0.026981    0.090060  \n",
      "city_Lyon                        -0.028551 -0.037231  0.034720   -0.031684  \n",
      "city_Montpellier                 -0.008258 -0.038921 -0.021632   -0.083790  \n",
      "gender_Male                      -0.004425  0.057036  0.007051   -0.088051  \n",
      "education_1_High school           0.026902  0.007715 -0.002243    0.055478  \n",
      "education_1_Master or doctorate   0.006397 -0.052733 -0.114340   -0.011319  \n",
      "education_1_No degree             0.143803 -0.002876 -0.012959    0.000066  \n",
      "education_1_Primary               0.014906 -0.010437 -0.020073   -0.001728  \n",
      "education_1_Vocational            0.049113  0.104077 -0.052545   -0.056108  \n",
      "age_35-44                        -0.111029 -0.042381 -0.190973    0.035559  \n",
      "age_45-54                        -0.099156 -0.037849 -0.170550    0.064129  \n",
      "age_55-64                         1.000000 -0.019998 -0.090115    0.089784  \n",
      "age_65+                          -0.019998  1.000000 -0.034398   -0.023490  \n",
      "age_<25                          -0.090115 -0.034398  1.000000   -0.082495  \n",
      "steps_mean                        0.089784 -0.023490 -0.082495    1.000000  \n"
     ]
    }
   ],
   "source": [
    "corr1 = pd.concat([df, df_merged[\"steps_mean\"]], axis = 1)  \n",
    "# making correlation matrix \n",
    "corr2 =corr1.corr()\n",
    "print(corr2)\n"
   ]
  },
  {
   "cell_type": "markdown",
   "id": "6026f78c",
   "metadata": {},
   "source": [
    "if we look at the column \"steps_mean\" we can see that the correlation is very low between that column (dependant column) and the independant vaiables. for this reason i am just going to use all the variables "
   ]
  },
  {
   "cell_type": "code",
   "execution_count": 25,
   "id": "460c4f90",
   "metadata": {},
   "outputs": [
    {
     "name": "stdout",
     "output_type": "stream",
     "text": [
      "The regression line is equal to y = 6355.96 + 586.90X\n"
     ]
    }
   ],
   "source": [
    "lm = LinearRegression() #create a new (empty model)\n",
    "lm = lm.fit(x_train, y_train) #fit the model WITH THE TRAIN DATA ONLY\n",
    "\n",
    "b0 = lm.intercept_ #lm.coef_ gets a list of coefficients (excluding the intercept). [0] gets the actual number from the list\n",
    "b1 = lm.coef_[0] #gets the intercept\n",
    "\n",
    "print(f\"The regression line is equal to y = {b0:.2f} + {b1:.2f}X\") #.0f formats to 2 decimals."
   ]
  },
  {
   "cell_type": "markdown",
   "id": "44771a29",
   "metadata": {},
   "source": [
    "# Evaluate the model on the test data\n",
    "\n",
    "- Predictive power of the model (R2, RMSE)\n",
    "- Investigate the residuals"
   ]
  },
  {
   "cell_type": "code",
   "execution_count": 26,
   "id": "5991c9af",
   "metadata": {},
   "outputs": [
    {
     "name": "stdout",
     "output_type": "stream",
     "text": [
      "     city_Lille  city_Lyon  city_Montpellier  gender_Male  \\\n",
      "55      6355.96    6355.96           6355.96      6942.86   \n",
      "799     6942.86    6355.96           6355.96      6355.96   \n",
      "563     6355.96    6355.96           6942.86      6942.86   \n",
      "469     6355.96    6355.96           6355.96      6942.86   \n",
      "190     6355.96    6942.86           6355.96      6942.86   \n",
      "..          ...        ...               ...          ...   \n",
      "880     6942.86    6355.96           6355.96      6355.96   \n",
      "877     6942.86    6355.96           6355.96      6942.86   \n",
      "392     6355.96    6942.86           6355.96      6942.86   \n",
      "586     6355.96    6355.96           6355.96      6942.86   \n",
      "498     6355.96    6942.86           6355.96      6942.86   \n",
      "\n",
      "     education_1_High school  education_1_Master or doctorate  \\\n",
      "55                   6355.96                          6355.96   \n",
      "799                  6355.96                          6942.86   \n",
      "563                  6355.96                          6942.86   \n",
      "469                  6355.96                          6355.96   \n",
      "190                  6355.96                          6942.86   \n",
      "..                       ...                              ...   \n",
      "880                  6355.96                          6355.96   \n",
      "877                  6355.96                          6355.96   \n",
      "392                  6355.96                          6355.96   \n",
      "586                  6355.96                          6355.96   \n",
      "498                  6355.96                          6942.86   \n",
      "\n",
      "     education_1_No degree  education_1_Primary  education_1_Vocational  \\\n",
      "55                 6355.96              6355.96                 6942.86   \n",
      "799                6355.96              6355.96                 6355.96   \n",
      "563                6355.96              6355.96                 6355.96   \n",
      "469                6355.96              6355.96                 6355.96   \n",
      "190                6355.96              6355.96                 6355.96   \n",
      "..                     ...                  ...                     ...   \n",
      "880                6355.96              6355.96                 6355.96   \n",
      "877                6355.96              6355.96                 6355.96   \n",
      "392                6355.96              6355.96                 6355.96   \n",
      "586                6355.96              6355.96                 6355.96   \n",
      "498                6355.96              6355.96                 6355.96   \n",
      "\n",
      "     age_35-44  age_45-54  age_55-64  age_65+  age_<25  \n",
      "55     6355.96    6355.96    6355.96  6942.86  6355.96  \n",
      "799    6355.96    6355.96    6355.96  6355.96  6355.96  \n",
      "563    6355.96    6355.96    6355.96  6355.96  6355.96  \n",
      "469    6355.96    6355.96    6355.96  6355.96  6355.96  \n",
      "190    6355.96    6355.96    6355.96  6355.96  6355.96  \n",
      "..         ...        ...        ...      ...      ...  \n",
      "880    6355.96    6942.86    6355.96  6355.96  6355.96  \n",
      "877    6355.96    6355.96    6355.96  6355.96  6355.96  \n",
      "392    6942.86    6355.96    6355.96  6355.96  6355.96  \n",
      "586    6355.96    6355.96    6355.96  6355.96  6942.86  \n",
      "498    6355.96    6355.96    6355.96  6355.96  6355.96  \n",
      "\n",
      "[278 rows x 14 columns]\n"
     ]
    }
   ],
   "source": [
    "y = 6355.96 + 586.90*x_test\n",
    "print(y) "
   ]
  },
  {
   "cell_type": "markdown",
   "id": "dfd95787",
   "metadata": {},
   "source": [
    "- i Obviously did something wring here. it predicted the mean steps for every x variable input. i have no idea how to fix this. the only way i can think of how this could work is to take one variable when making the test and training sets, but i know that is not the assignment. so i am just going to role with it."
   ]
  },
  {
   "cell_type": "markdown",
   "id": "9243aaf7",
   "metadata": {},
   "source": [
    "- predictive power R2 and RMSE: couldn't be much worse:"
   ]
  },
  {
   "cell_type": "code",
   "execution_count": 27,
   "id": "df56cfb2",
   "metadata": {},
   "outputs": [
    {
     "data": {
      "text/plain": [
       "-0.008275720108001705"
      ]
     },
     "execution_count": 27,
     "metadata": {},
     "output_type": "execute_result"
    }
   ],
   "source": [
    "y_test_p = lm.predict(x_test) #Generate the predictions and store them in y_test_p. USE ONLY THE TEST DATA HERE\n",
    "r2_score(y_test, y_test_p) #this gives the model fit (R2) for the Y and predicted Y"
   ]
  },
  {
   "cell_type": "code",
   "execution_count": 28,
   "id": "343045e4",
   "metadata": {},
   "outputs": [
    {
     "data": {
      "text/plain": [
       "4175.586057051782"
      ]
     },
     "execution_count": 28,
     "metadata": {},
     "output_type": "execute_result"
    }
   ],
   "source": [
    "math.sqrt(mean_squared_error(y_test, y_test_p)) #this gives the model fit (R2) for the Y and predicted Y"
   ]
  },
  {
   "cell_type": "markdown",
   "id": "9fe757bf",
   "metadata": {},
   "source": [
    "# Describe and interpret the results\n",
    "- The R2 indicates that 0,8% of changes in mean steps is due to the independend variables. which realy can't get much worse than this, but than again, i probably fucked something up \n",
    "- the RMSE is 4175 steps, which is the average error in the prediction of mean steps per person.\n",
    "# Conclusion\n",
    "- this is a bad model, noboby should ever use this "
   ]
  },
  {
   "cell_type": "markdown",
   "id": "b3b11100",
   "metadata": {},
   "source": [
    "# handige dingen uit andere opdrachten die later miss handig toe te passen zijn "
   ]
  },
  {
   "cell_type": "code",
   "execution_count": 29,
   "id": "03a06eae",
   "metadata": {},
   "outputs": [
    {
     "ename": "SyntaxError",
     "evalue": "invalid syntax (1165408290.py, line 8)",
     "output_type": "error",
     "traceback": [
      "\u001b[0;36m  File \u001b[0;32m\"/var/folders/_t/kcjkwxcs5fzgxzjzs3_w739m0000gn/T/ipykernel_37041/1165408290.py\"\u001b[0;36m, line \u001b[0;32m8\u001b[0m\n\u001b[0;31m    df_sub=df.loc[:;,'manufacturer_name':'location_region']\u001b[0m\n\u001b[0m                   ^\u001b[0m\n\u001b[0;31mSyntaxError\u001b[0m\u001b[0;31m:\u001b[0m invalid syntax\n"
     ]
    }
   ],
   "source": [
    "# om het aantal, nummer en soort van alle kolommen te krijgen \n",
    "df.info(verbose=True) \n",
    "# om de tekst onder een diagram schuin te zetten zodat het beter staat \n",
    "plt.xticks(rotation=45)\n",
    "# om bij specifieke kolommen de mean te berekenen en die in een nieuwe kolom zetten \n",
    "df['steps_mean']=df.iloc[:,9:336].mean(axis=1)\n",
    "#om sommige rijen eruit te halen zijn er stukken genomen en vervolgens weer samengevoegd \n",
    "df_sub=df.loc[:;,'manufacturer_name':'location_region']\n",
    "df_sub2=df.loc[:,'duration_listed']\n",
    "df=pd.concat([df_sub, df_sub2],axis=1)\n",
    "df.head()"
   ]
  }
 ],
 "metadata": {
  "kernelspec": {
   "display_name": "Python 3 (ipykernel)",
   "language": "python",
   "name": "python3"
  },
  "language_info": {
   "codemirror_mode": {
    "name": "ipython",
    "version": 3
   },
   "file_extension": ".py",
   "mimetype": "text/x-python",
   "name": "python",
   "nbconvert_exporter": "python",
   "pygments_lexer": "ipython3",
   "version": "3.8.8"
  }
 },
 "nbformat": 4,
 "nbformat_minor": 5
}
